{
 "cells": [
  {
   "cell_type": "code",
   "execution_count": 1,
   "id": "70b48a88",
   "metadata": {},
   "outputs": [],
   "source": [
    "def findChar(a, b):\n",
    "\n",
    "    if b >= len(a):\n",
    "        return None\n",
    "    return a[b-1]\n"
   ]
  },
  {
   "cell_type": "code",
   "execution_count": 2,
   "id": "2e9df51a",
   "metadata": {},
   "outputs": [
    {
     "name": "stdout",
     "output_type": "stream",
     "text": [
      "e\n"
     ]
    }
   ],
   "source": [
    "\n",
    "result = findChar('abcdefg', 5)\n",
    "print(result)  # Output: 'c'\n"
   ]
  },
  {
   "cell_type": "code",
   "execution_count": 3,
   "id": "088582bb",
   "metadata": {},
   "outputs": [],
   "source": [
    "def doMath(c, d, e):\n",
    "    x = sum(1 for item in e if item == d)  # count the occurrences of d in e\n",
    "    result = c**3 + (c/0.65) + x\n",
    "    return result\n",
    "\n",
    "\n",
    "         "
   ]
  },
  {
   "cell_type": "code",
   "execution_count": 4,
   "id": "6bbb1996",
   "metadata": {
    "scrolled": true
   },
   "outputs": [
    {
     "data": {
      "text/plain": [
       "274727.0"
      ]
     },
     "execution_count": 4,
     "metadata": {},
     "output_type": "execute_result"
    }
   ],
   "source": [
    "doMath(65,'a',[1,'a','a',3])"
   ]
  },
  {
   "cell_type": "code",
   "execution_count": 5,
   "id": "bc8a570a",
   "metadata": {},
   "outputs": [],
   "source": [
    "import csv\n",
    "\n",
    "def fileInfo(f):\n",
    "    with open(f, 'r') as csvfile:\n",
    "        file_search = csv.reader(csvfile)\n",
    "        rows = sum(1 for row in file_search)\n",
    "        csvfile.seek(0)  # resets the file pointer to the beginning of the file\n",
    "        cols = len(next(file_search))\n",
    "    return [rows, cols]\n"
   ]
  },
  {
   "cell_type": "code",
   "execution_count": 10,
   "id": "7078d74a",
   "metadata": {},
   "outputs": [
    {
     "data": {
      "text/plain": [
       "[5, 3]"
      ]
     },
     "execution_count": 10,
     "metadata": {},
     "output_type": "execute_result"
    }
   ],
   "source": [
    "fileInfo('practice.csv')"
   ]
  }
 ],
 "metadata": {
  "kernelspec": {
   "display_name": "Python 3 (ipykernel)",
   "language": "python",
   "name": "python3"
  },
  "language_info": {
   "codemirror_mode": {
    "name": "ipython",
    "version": 3
   },
   "file_extension": ".py",
   "mimetype": "text/x-python",
   "name": "python",
   "nbconvert_exporter": "python",
   "pygments_lexer": "ipython3",
   "version": "3.9.13"
  }
 },
 "nbformat": 4,
 "nbformat_minor": 5
}
